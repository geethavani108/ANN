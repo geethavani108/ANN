{
 "cells": [
  {
   "cell_type": "code",
   "execution_count": 19,
   "metadata": {},
   "outputs": [],
   "source": [
    "\n",
    "import matplotlib.pyplot as plt\n",
    "import pandas as pd\n",
    "import seaborn as sns\n",
    "import numpy as np\n",
    "\n",
    "df=pd.read_csv(r'C:\\\\Users\\kmmoh\\Downloads\\Githubupload\\churn_modelling.csv')\n",
    "df.head(3)\n",
    "X = df.iloc[:, 3:13]\n",
    "y = df.iloc[:, 13]\n",
    "#Create dummy variables\n",
    "geography=pd.get_dummies(X[\"Geography\"],drop_first=True)\n",
    "gender=pd.get_dummies(X['Gender'],drop_first=True)\n",
    "\n",
    "## Concatenate the Data Frames\n",
    "\n",
    "X=pd.concat([X,geography,gender],axis=1)\n",
    "\n",
    "## Drop Unnecessary columns\n",
    "X=X.drop(['Geography','Gender'],axis=1)\n",
    "\n",
    "# Splitting the dataset into the Training set and Test set\n",
    "from sklearn.model_selection import train_test_split\n",
    "X_train, X_test, y_train, y_test = train_test_split(X, y, test_size = 0.2, random_state = 0)\n",
    "\n",
    "# Feature Scaling\n",
    "from sklearn.preprocessing import StandardScaler\n",
    "sc = StandardScaler()\n",
    "X_train = sc.fit_transform(X_train)\n",
    "X_test = sc.transform(X_test)\n",
    "\n"
   ]
  },
  {
   "cell_type": "markdown",
   "metadata": {},
   "source": [
    "# Following steps are involved in the model building\n",
    "\n",
    "Initialising the ANN\n",
    "Defining by adding layers\n",
    "Compiling the ANN\n",
    "Train the ANN"
   ]
  },
  {
   "cell_type": "markdown",
   "metadata": {},
   "source": [
    "Units - number of columns of the dataset\n",
    "\n",
    "output_dim - number of outputs to be fed to the next layer, if any\n",
    "\n",
    "activation - activation function which is ReLU in this case\n",
    "\n",
    "init - the way in which weights should be provided to an ANN\n",
    "The ReLU function is f(x)=max(0,x). Usually this is applied element-wise to the output of some other function, such as a matrix-vector product. I"
   ]
  },
  {
   "cell_type": "code",
   "execution_count": 8,
   "metadata": {},
   "outputs": [
    {
     "name": "stdout",
     "output_type": "stream",
     "text": [
      "Epoch 1/100\n",
      "536/536 [==============================] - 1s 1ms/step - loss: 0.7124 - accuracy: 0.5753 - val_loss: 0.6205 - val_accuracy: 0.7584\n",
      "Epoch 2/100\n",
      "536/536 [==============================] - 0s 907us/step - loss: 0.5822 - accuracy: 0.7843 - val_loss: 0.5582 - val_accuracy: 0.7955\n",
      "Epoch 3/100\n",
      "536/536 [==============================] - 0s 893us/step - loss: 0.5415 - accuracy: 0.7962 - val_loss: 0.5338 - val_accuracy: 0.7955\n",
      "Epoch 4/100\n",
      "536/536 [==============================] - 0s 894us/step - loss: 0.5213 - accuracy: 0.7962 - val_loss: 0.5184 - val_accuracy: 0.7955\n",
      "Epoch 5/100\n",
      "536/536 [==============================] - 0s 874us/step - loss: 0.5071 - accuracy: 0.7962 - val_loss: 0.5066 - val_accuracy: 0.7955\n",
      "Epoch 6/100\n",
      "536/536 [==============================] - 0s 892us/step - loss: 0.4945 - accuracy: 0.7964 - val_loss: 0.4949 - val_accuracy: 0.7955\n",
      "Epoch 7/100\n",
      "536/536 [==============================] - 0s 887us/step - loss: 0.4824 - accuracy: 0.7994 - val_loss: 0.4835 - val_accuracy: 0.7997\n",
      "Epoch 8/100\n",
      "536/536 [==============================] - 0s 926us/step - loss: 0.4703 - accuracy: 0.8041 - val_loss: 0.4732 - val_accuracy: 0.8065\n",
      "Epoch 9/100\n",
      "536/536 [==============================] - 0s 867us/step - loss: 0.4600 - accuracy: 0.8067 - val_loss: 0.4650 - val_accuracy: 0.8076\n",
      "Epoch 10/100\n",
      "536/536 [==============================] - 1s 956us/step - loss: 0.4514 - accuracy: 0.8112 - val_loss: 0.4587 - val_accuracy: 0.8126\n",
      "Epoch 11/100\n",
      "536/536 [==============================] - 0s 858us/step - loss: 0.4443 - accuracy: 0.8145 - val_loss: 0.4535 - val_accuracy: 0.8118\n",
      "Epoch 12/100\n",
      "536/536 [==============================] - 1s 947us/step - loss: 0.4390 - accuracy: 0.8162 - val_loss: 0.4495 - val_accuracy: 0.8129\n",
      "Epoch 13/100\n",
      "536/536 [==============================] - 1s 1ms/step - loss: 0.4347 - accuracy: 0.8179 - val_loss: 0.4462 - val_accuracy: 0.8152\n",
      "Epoch 14/100\n",
      "536/536 [==============================] - 1s 1ms/step - loss: 0.4312 - accuracy: 0.8209 - val_loss: 0.4435 - val_accuracy: 0.8160\n",
      "Epoch 15/100\n",
      "536/536 [==============================] - 1s 968us/step - loss: 0.4283 - accuracy: 0.8222 - val_loss: 0.4412 - val_accuracy: 0.8175\n",
      "Epoch 16/100\n",
      "536/536 [==============================] - 0s 832us/step - loss: 0.4257 - accuracy: 0.8244 - val_loss: 0.4392 - val_accuracy: 0.8186\n",
      "Epoch 17/100\n",
      "536/536 [==============================] - 1s 976us/step - loss: 0.4235 - accuracy: 0.8266 - val_loss: 0.4374 - val_accuracy: 0.8190\n",
      "Epoch 18/100\n",
      "536/536 [==============================] - 0s 822us/step - loss: 0.4216 - accuracy: 0.8285 - val_loss: 0.4357 - val_accuracy: 0.8190\n",
      "Epoch 19/100\n",
      "536/536 [==============================] - 1s 971us/step - loss: 0.4197 - accuracy: 0.8283 - val_loss: 0.4343 - val_accuracy: 0.8194\n",
      "Epoch 20/100\n",
      "536/536 [==============================] - 0s 840us/step - loss: 0.4179 - accuracy: 0.8300 - val_loss: 0.4328 - val_accuracy: 0.8198\n",
      "Epoch 21/100\n",
      "536/536 [==============================] - 1s 962us/step - loss: 0.4165 - accuracy: 0.8306 - val_loss: 0.4317 - val_accuracy: 0.8209\n",
      "Epoch 22/100\n",
      "536/536 [==============================] - 0s 837us/step - loss: 0.4149 - accuracy: 0.8309 - val_loss: 0.4303 - val_accuracy: 0.8213\n",
      "Epoch 23/100\n",
      "536/536 [==============================] - 1s 959us/step - loss: 0.4135 - accuracy: 0.8317 - val_loss: 0.4294 - val_accuracy: 0.8198\n",
      "Epoch 24/100\n",
      "536/536 [==============================] - 0s 808us/step - loss: 0.4124 - accuracy: 0.8330 - val_loss: 0.4283 - val_accuracy: 0.8213\n",
      "Epoch 25/100\n",
      "536/536 [==============================] - 1s 966us/step - loss: 0.4113 - accuracy: 0.8330 - val_loss: 0.4275 - val_accuracy: 0.8201\n",
      "Epoch 26/100\n",
      "536/536 [==============================] - 0s 807us/step - loss: 0.4103 - accuracy: 0.8330 - val_loss: 0.4268 - val_accuracy: 0.8228\n",
      "Epoch 27/100\n",
      "536/536 [==============================] - 1s 937us/step - loss: 0.4093 - accuracy: 0.8339 - val_loss: 0.4259 - val_accuracy: 0.8224\n",
      "Epoch 28/100\n",
      "536/536 [==============================] - 0s 903us/step - loss: 0.4084 - accuracy: 0.8356 - val_loss: 0.4254 - val_accuracy: 0.8205\n",
      "Epoch 29/100\n",
      "536/536 [==============================] - 1s 1ms/step - loss: 0.4076 - accuracy: 0.8343 - val_loss: 0.4248 - val_accuracy: 0.8220\n",
      "Epoch 30/100\n",
      "536/536 [==============================] - 1s 1ms/step - loss: 0.4069 - accuracy: 0.8349 - val_loss: 0.4240 - val_accuracy: 0.8217\n",
      "Epoch 31/100\n",
      "536/536 [==============================] - 1s 1ms/step - loss: 0.4061 - accuracy: 0.8347 - val_loss: 0.4234 - val_accuracy: 0.8220\n",
      "Epoch 32/100\n",
      "536/536 [==============================] - 1s 1ms/step - loss: 0.4053 - accuracy: 0.8352 - val_loss: 0.4227 - val_accuracy: 0.8243\n",
      "Epoch 33/100\n",
      "536/536 [==============================] - 1s 1ms/step - loss: 0.4048 - accuracy: 0.8358 - val_loss: 0.4222 - val_accuracy: 0.8239\n",
      "Epoch 34/100\n",
      "536/536 [==============================] - 1s 977us/step - loss: 0.4040 - accuracy: 0.8352 - val_loss: 0.4217 - val_accuracy: 0.8254\n",
      "Epoch 35/100\n",
      "536/536 [==============================] - 0s 830us/step - loss: 0.4035 - accuracy: 0.8362 - val_loss: 0.4214 - val_accuracy: 0.8232\n",
      "Epoch 36/100\n",
      "536/536 [==============================] - 1s 981us/step - loss: 0.4030 - accuracy: 0.8343 - val_loss: 0.4208 - val_accuracy: 0.8247\n",
      "Epoch 37/100\n",
      "536/536 [==============================] - 0s 800us/step - loss: 0.4025 - accuracy: 0.8360 - val_loss: 0.4203 - val_accuracy: 0.8243\n",
      "Epoch 38/100\n",
      "536/536 [==============================] - 1s 938us/step - loss: 0.4020 - accuracy: 0.8362 - val_loss: 0.4199 - val_accuracy: 0.8243\n",
      "Epoch 39/100\n",
      "536/536 [==============================] - 0s 774us/step - loss: 0.4016 - accuracy: 0.8360 - val_loss: 0.4198 - val_accuracy: 0.8236\n",
      "Epoch 40/100\n",
      "536/536 [==============================] - 0s 929us/step - loss: 0.4012 - accuracy: 0.8358 - val_loss: 0.4195 - val_accuracy: 0.8239\n",
      "Epoch 41/100\n",
      "536/536 [==============================] - 0s 816us/step - loss: 0.4006 - accuracy: 0.8358 - val_loss: 0.4191 - val_accuracy: 0.8236\n",
      "Epoch 42/100\n",
      "536/536 [==============================] - 0s 854us/step - loss: 0.4002 - accuracy: 0.8378 - val_loss: 0.4188 - val_accuracy: 0.8236\n",
      "Epoch 43/100\n",
      "536/536 [==============================] - 0s 926us/step - loss: 0.3997 - accuracy: 0.8371 - val_loss: 0.4187 - val_accuracy: 0.8228\n",
      "Epoch 44/100\n",
      "536/536 [==============================] - 0s 847us/step - loss: 0.3993 - accuracy: 0.8367 - val_loss: 0.4182 - val_accuracy: 0.8236\n",
      "Epoch 45/100\n",
      "536/536 [==============================] - 0s 879us/step - loss: 0.3987 - accuracy: 0.8371 - val_loss: 0.4177 - val_accuracy: 0.8247\n",
      "Epoch 46/100\n",
      "536/536 [==============================] - 0s 879us/step - loss: 0.3985 - accuracy: 0.8367 - val_loss: 0.4174 - val_accuracy: 0.8243\n",
      "Epoch 47/100\n",
      "536/536 [==============================] - 0s 867us/step - loss: 0.3980 - accuracy: 0.8364 - val_loss: 0.4173 - val_accuracy: 0.8251\n",
      "Epoch 48/100\n",
      "536/536 [==============================] - 0s 789us/step - loss: 0.3976 - accuracy: 0.8373 - val_loss: 0.4172 - val_accuracy: 0.8236\n",
      "Epoch 49/100\n",
      "536/536 [==============================] - 0s 908us/step - loss: 0.3971 - accuracy: 0.8371 - val_loss: 0.4167 - val_accuracy: 0.8254\n",
      "Epoch 50/100\n",
      "536/536 [==============================] - 0s 780us/step - loss: 0.3968 - accuracy: 0.8367 - val_loss: 0.4165 - val_accuracy: 0.8247\n",
      "Epoch 51/100\n",
      "536/536 [==============================] - 0s 914us/step - loss: 0.3964 - accuracy: 0.8369 - val_loss: 0.4166 - val_accuracy: 0.8236\n",
      "Epoch 52/100\n",
      "536/536 [==============================] - 0s 797us/step - loss: 0.3960 - accuracy: 0.8371 - val_loss: 0.4164 - val_accuracy: 0.8228\n",
      "Epoch 53/100\n",
      "536/536 [==============================] - 0s 920us/step - loss: 0.3955 - accuracy: 0.8373 - val_loss: 0.4159 - val_accuracy: 0.8247\n",
      "Epoch 54/100\n",
      "536/536 [==============================] - 0s 802us/step - loss: 0.3950 - accuracy: 0.8369 - val_loss: 0.4157 - val_accuracy: 0.8236\n",
      "Epoch 55/100\n",
      "536/536 [==============================] - 0s 887us/step - loss: 0.3946 - accuracy: 0.8362 - val_loss: 0.4152 - val_accuracy: 0.8239\n",
      "Epoch 56/100\n",
      "536/536 [==============================] - 0s 793us/step - loss: 0.3940 - accuracy: 0.8380 - val_loss: 0.4153 - val_accuracy: 0.8209\n",
      "Epoch 57/100\n"
     ]
    },
    {
     "name": "stdout",
     "output_type": "stream",
     "text": [
      "536/536 [==============================] - 0s 856us/step - loss: 0.3937 - accuracy: 0.8371 - val_loss: 0.4145 - val_accuracy: 0.8213\n",
      "Epoch 58/100\n",
      "536/536 [==============================] - 0s 835us/step - loss: 0.3930 - accuracy: 0.8367 - val_loss: 0.4142 - val_accuracy: 0.8217\n",
      "Epoch 59/100\n",
      "536/536 [==============================] - 0s 830us/step - loss: 0.3925 - accuracy: 0.8377 - val_loss: 0.4137 - val_accuracy: 0.8224\n",
      "Epoch 60/100\n",
      "536/536 [==============================] - 0s 912us/step - loss: 0.3918 - accuracy: 0.8377 - val_loss: 0.4134 - val_accuracy: 0.8205\n",
      "Epoch 61/100\n",
      "536/536 [==============================] - 0s 770us/step - loss: 0.3912 - accuracy: 0.8388 - val_loss: 0.4128 - val_accuracy: 0.8209\n",
      "Epoch 62/100\n",
      "536/536 [==============================] - 0s 899us/step - loss: 0.3905 - accuracy: 0.8399 - val_loss: 0.4123 - val_accuracy: 0.8213\n",
      "Epoch 63/100\n",
      "536/536 [==============================] - 0s 808us/step - loss: 0.3899 - accuracy: 0.8380 - val_loss: 0.4116 - val_accuracy: 0.8236\n",
      "Epoch 64/100\n",
      "536/536 [==============================] - 0s 902us/step - loss: 0.3892 - accuracy: 0.8382 - val_loss: 0.4110 - val_accuracy: 0.8224\n",
      "Epoch 65/100\n",
      "536/536 [==============================] - 0s 787us/step - loss: 0.3885 - accuracy: 0.8390 - val_loss: 0.4105 - val_accuracy: 0.8217\n",
      "Epoch 66/100\n",
      "536/536 [==============================] - 1s 921us/step - loss: 0.3878 - accuracy: 0.8393 - val_loss: 0.4100 - val_accuracy: 0.8220\n",
      "Epoch 67/100\n",
      "536/536 [==============================] - 0s 763us/step - loss: 0.3869 - accuracy: 0.8393 - val_loss: 0.4091 - val_accuracy: 0.8228\n",
      "Epoch 68/100\n",
      "536/536 [==============================] - 0s 896us/step - loss: 0.3861 - accuracy: 0.8401 - val_loss: 0.4083 - val_accuracy: 0.8236\n",
      "Epoch 69/100\n",
      "536/536 [==============================] - 0s 790us/step - loss: 0.3852 - accuracy: 0.8391 - val_loss: 0.4075 - val_accuracy: 0.8273\n",
      "Epoch 70/100\n",
      "536/536 [==============================] - 0s 870us/step - loss: 0.3842 - accuracy: 0.8418 - val_loss: 0.4065 - val_accuracy: 0.8266\n",
      "Epoch 71/100\n",
      "536/536 [==============================] - 0s 828us/step - loss: 0.3833 - accuracy: 0.8412 - val_loss: 0.4056 - val_accuracy: 0.8273\n",
      "Epoch 72/100\n",
      "536/536 [==============================] - 0s 830us/step - loss: 0.3823 - accuracy: 0.8425 - val_loss: 0.4046 - val_accuracy: 0.8277\n",
      "Epoch 73/100\n",
      "536/536 [==============================] - 0s 913us/step - loss: 0.3810 - accuracy: 0.8446 - val_loss: 0.4037 - val_accuracy: 0.8285\n",
      "Epoch 74/100\n",
      "536/536 [==============================] - 0s 791us/step - loss: 0.3799 - accuracy: 0.8457 - val_loss: 0.4026 - val_accuracy: 0.8296\n",
      "Epoch 75/100\n",
      "536/536 [==============================] - 1s 927us/step - loss: 0.3785 - accuracy: 0.8453 - val_loss: 0.4014 - val_accuracy: 0.8304\n",
      "Epoch 76/100\n",
      "536/536 [==============================] - 0s 781us/step - loss: 0.3772 - accuracy: 0.8464 - val_loss: 0.4001 - val_accuracy: 0.8319\n",
      "Epoch 77/100\n",
      "536/536 [==============================] - 1s 913us/step - loss: 0.3758 - accuracy: 0.8475 - val_loss: 0.3987 - val_accuracy: 0.8338\n",
      "Epoch 78/100\n",
      "536/536 [==============================] - 0s 787us/step - loss: 0.3742 - accuracy: 0.8475 - val_loss: 0.3974 - val_accuracy: 0.8353\n",
      "Epoch 79/100\n",
      "536/536 [==============================] - 0s 909us/step - loss: 0.3727 - accuracy: 0.8494 - val_loss: 0.3958 - val_accuracy: 0.8372\n",
      "Epoch 80/100\n",
      "536/536 [==============================] - 0s 808us/step - loss: 0.3709 - accuracy: 0.8489 - val_loss: 0.3940 - val_accuracy: 0.8379\n",
      "Epoch 81/100\n",
      "536/536 [==============================] - 0s 906us/step - loss: 0.3690 - accuracy: 0.8498 - val_loss: 0.3920 - val_accuracy: 0.8402\n",
      "Epoch 82/100\n",
      "536/536 [==============================] - 0s 824us/step - loss: 0.3671 - accuracy: 0.8520 - val_loss: 0.3903 - val_accuracy: 0.8432\n",
      "Epoch 83/100\n",
      "536/536 [==============================] - 0s 860us/step - loss: 0.3653 - accuracy: 0.8539 - val_loss: 0.3886 - val_accuracy: 0.8436\n",
      "Epoch 84/100\n",
      "536/536 [==============================] - 0s 841us/step - loss: 0.3635 - accuracy: 0.8526 - val_loss: 0.3867 - val_accuracy: 0.8440\n",
      "Epoch 85/100\n",
      "536/536 [==============================] - 0s 825us/step - loss: 0.3617 - accuracy: 0.8539 - val_loss: 0.3850 - val_accuracy: 0.8451\n",
      "Epoch 86/100\n",
      "536/536 [==============================] - 0s 866us/step - loss: 0.3601 - accuracy: 0.8565 - val_loss: 0.3832 - val_accuracy: 0.8436\n",
      "Epoch 87/100\n",
      "536/536 [==============================] - 0s 785us/step - loss: 0.3584 - accuracy: 0.8593 - val_loss: 0.3814 - val_accuracy: 0.8444\n",
      "Epoch 88/100\n",
      "536/536 [==============================] - 1s 915us/step - loss: 0.3570 - accuracy: 0.8593 - val_loss: 0.3800 - val_accuracy: 0.8444\n",
      "Epoch 89/100\n",
      "536/536 [==============================] - 0s 773us/step - loss: 0.3556 - accuracy: 0.8597 - val_loss: 0.3787 - val_accuracy: 0.8463\n",
      "Epoch 90/100\n",
      "536/536 [==============================] - 0s 915us/step - loss: 0.3542 - accuracy: 0.8597 - val_loss: 0.3776 - val_accuracy: 0.8455\n",
      "Epoch 91/100\n",
      "536/536 [==============================] - 0s 797us/step - loss: 0.3530 - accuracy: 0.8612 - val_loss: 0.3764 - val_accuracy: 0.8459\n",
      "Epoch 92/100\n",
      "536/536 [==============================] - 0s 917us/step - loss: 0.3517 - accuracy: 0.8610 - val_loss: 0.3752 - val_accuracy: 0.8470\n",
      "Epoch 93/100\n",
      "536/536 [==============================] - 0s 768us/step - loss: 0.3506 - accuracy: 0.8615 - val_loss: 0.3742 - val_accuracy: 0.8463\n",
      "Epoch 94/100\n",
      "536/536 [==============================] - 0s 906us/step - loss: 0.3496 - accuracy: 0.8615 - val_loss: 0.3731 - val_accuracy: 0.8466\n",
      "Epoch 95/100\n",
      "536/536 [==============================] - 0s 793us/step - loss: 0.3487 - accuracy: 0.8621 - val_loss: 0.3724 - val_accuracy: 0.8474\n",
      "Epoch 96/100\n",
      "536/536 [==============================] - 0s 862us/step - loss: 0.3479 - accuracy: 0.8623 - val_loss: 0.3718 - val_accuracy: 0.8474\n",
      "Epoch 97/100\n",
      "536/536 [==============================] - 0s 839us/step - loss: 0.3471 - accuracy: 0.8621 - val_loss: 0.3711 - val_accuracy: 0.8466\n",
      "Epoch 98/100\n",
      "536/536 [==============================] - 0s 826us/step - loss: 0.3462 - accuracy: 0.8625 - val_loss: 0.3702 - val_accuracy: 0.8463\n",
      "Epoch 99/100\n",
      "536/536 [==============================] - 0s 903us/step - loss: 0.3456 - accuracy: 0.8636 - val_loss: 0.3698 - val_accuracy: 0.8478\n",
      "Epoch 100/100\n",
      "536/536 [==============================] - 0s 792us/step - loss: 0.3448 - accuracy: 0.8632 - val_loss: 0.3692 - val_accuracy: 0.8463\n"
     ]
    }
   ],
   "source": [
    "# Part 2 - Now let's make the ANN!\n",
    "\n",
    "import keras\n",
    "from keras.models import Sequential\n",
    "from keras.layers import Dense\n",
    "from keras.layers import LeakyReLU,PReLU,ELU\n",
    "from keras.layers import Dropout\n",
    "\n",
    "\n",
    "# Initialising the ANN\n",
    "classifier = Sequential()\n",
    "\n",
    "\n",
    "# Adding the input layer and the first hidden layer\n",
    "#classifier.add(Dense(output_dim = 6, init = 'he_uniform',activation='relu',input_dim = 11))\n",
    "classifier.add(Dense(units = 6, kernel_initializer = 'he_uniform',activation='relu',input_dim = 11))\n",
    "\n",
    "# Adding the second hidden layer\n",
    "classifier.add(Dense(units = 6, kernel_initializer = 'he_uniform',activation='relu'))\n",
    "# Adding the output layer\n",
    "classifier.add(Dense(units= 1, kernel_initializer = 'glorot_uniform', activation = 'sigmoid'))\n",
    "\n",
    "# Compiling the ANN\n",
    "classifier.compile(optimizer = 'Adamax', loss = 'binary_crossentropy', metrics = ['accuracy'])\n",
    "\n",
    "# Fitting the ANN to the Training set\n",
    "model_history=classifier.fit(X_train, y_train,validation_split=0.33, batch_size = 10, epochs = 100)\n",
    "\n",
    "\n"
   ]
  },
  {
   "cell_type": "code",
   "execution_count": 12,
   "metadata": {},
   "outputs": [
    {
     "name": "stdout",
     "output_type": "stream",
     "text": [
      "dict_keys(['loss', 'accuracy', 'val_loss', 'val_accuracy'])\n"
     ]
    },
    {
     "data": {
      "image/png": "[encoded data removed]",
      "text/plain": [
       "<Figure size 432x288 with 1 Axes>"
      ]
     },
     "metadata": {
      "needs_background": "light"
     },
     "output_type": "display_data"
    },
    {
     "data": {
      "image/png": "[encoded data removed]",
      "text/plain": [
       "<Figure size 432x288 with 1 Axes>"
      ]
     },
     "metadata": {
      "needs_background": "light"
     },
     "output_type": "display_data"
    }
   ],
   "source": [
    "# list all data in history\n",
    "\n",
    "print(model_history.history.keys())\n",
    "# summarize history for accuracy\n",
    "plt.plot(model_history.history['accuracy'])\n",
    "plt.plot(model_history.history['val_accuracy'])\n",
    "plt.title('model accuracy')\n",
    "plt.ylabel('accuracy')\n",
    "plt.xlabel('epoch')\n",
    "plt.legend(['train', 'test'], loc='upper left')\n",
    "plt.show()\n",
    "\n",
    "# summarize history for loss\n",
    "plt.plot(model_history.history['loss'])\n",
    "plt.plot(model_history.history['val_loss'])\n",
    "plt.title('model loss')\n",
    "plt.ylabel('loss')\n",
    "plt.xlabel('epoch')\n",
    "plt.legend(['train', 'test'], loc='upper left')\n",
    "plt.show()\n"
   ]
  },
  {
   "cell_type": "code",
   "execution_count": 14,
   "metadata": {},
   "outputs": [
    {
     "name": "stdout",
     "output_type": "stream",
     "text": [
      "Accuracy score       : 0.8635\n"
     ]
    }
   ],
   "source": [
    "# Part 3 - Making the predictions and evaluating the model\n",
    "\n",
    "# Predicting the Test set results\n",
    "y_pred = classifier.predict(X_test)\n",
    "y_pred = (y_pred > 0.5)\n",
    "\n",
    "# Making the Confusion Matrix\n",
    "from sklearn.metrics import confusion_matrix\n",
    "cm = confusion_matrix(y_test, y_pred)\n",
    "\n",
    "# Calculate the Accuracy\n",
    "from sklearn.metrics import accuracy_score\n",
    "score=accuracy_score(y_pred,y_test)\n",
    "print(\"Accuracy score       :\",score)"
   ]
  },
  {
   "cell_type": "code",
   "execution_count": 23,
   "metadata": {},
   "outputs": [
    {
     "data": {
      "text/plain": [
       "<AxesSubplot:>"
      ]
     },
     "execution_count": 23,
     "metadata": {},
     "output_type": "execute_result"
    },
    {
     "data": {
      "image/png": "[encoded data removed]",
      "text/plain": [
       "<Figure size 864x576 with 2 Axes>"
      ]
     },
     "metadata": {
      "needs_background": "light"
     },
     "output_type": "display_data"
    }
   ],
   "source": [
    "cmap1 = sns.diverging_palette(260,-10,s=50, l=75, n=5, as_cmap=True)\n",
    "plt.subplots(figsize=(12,8))\n",
    "cm = confusion_matrix(y_test, y_pred)\n",
    "sns.heatmap(cm/np.sum(cf_matrix), cmap = cmap1, annot = True, annot_kws = {'size':15})"
   ]
  },
  {
   "cell_type": "code",
   "execution_count": 24,
   "metadata": {},
   "outputs": [
    {
     "data": {
      "image/png": "[encoded data removed]",
      "text/plain": [
       "<Figure size 432x288 with 2 Axes>"
      ]
     },
     "metadata": {
      "needs_background": "light"
     },
     "output_type": "display_data"
    }
   ],
   "source": [
    "sns.heatmap(cm,annot=True)\n",
    "plt.savefig('h.png')"
   ]
  },
  {
   "cell_type": "code",
   "execution_count": null,
   "metadata": {},
   "outputs": [],
   "source": []
  }
 ],
 "metadata": {
  "kernelspec": {
   "display_name": "Python 3",
   "language": "python",
   "name": "python3"
  },
  "language_info": {
   "codemirror_mode": {
    "name": "ipython",
    "version": 3
   },
   "file_extension": ".py",
   "mimetype": "text/x-python",
   "name": "python",
   "nbconvert_exporter": "python",
   "pygments_lexer": "ipython3",
   "version": "3.7.1"
  }
 },
 "nbformat": 4,
 "nbformat_minor": 2
}
